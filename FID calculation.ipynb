{
 "cells": [
  {
   "cell_type": "markdown",
   "id": "da5ae56a-f951-4ea5-8bf6-fdb87ad79e51",
   "metadata": {},
   "source": [
    "# FID Calculation between two image sets"
   ]
  },
  {
   "cell_type": "code",
   "execution_count": 22,
   "id": "3c000681-25b4-4862-a493-5f1f78966132",
   "metadata": {},
   "outputs": [],
   "source": [
    "from pathlib import Path\n",
    "import os\n",
    "\n",
    "import torch\n",
    "import numpy as np\n",
    "import cv2\n",
    "import matplotlib.pyplot as plt\n",
    "from PIL import Image\n",
    "from tqdm.notebook import tqdm\n",
    "import torchvision.transforms as T\n",
    "import lightning as L\n",
    "\n",
    "from inpainting.bigtex import BigTextureDataset\n",
    "from inpainting.masked_img_dataset import MaskedImageDataset\n",
    "from inpainting.train import InPaintingGAN"
   ]
  },
  {
   "cell_type": "markdown",
   "id": "f325f839-03af-43de-b501-17a7f17d267f",
   "metadata": {},
   "source": [
    "# Settings\n",
    "\n",
    "Customize the following paths."
   ]
  },
  {
   "cell_type": "code",
   "execution_count": 32,
   "id": "3c26796f-2860-4a62-a294-e750e0128e05",
   "metadata": {},
   "outputs": [],
   "source": [
    "img_dir_root = Path(r\"...\")\n",
    "ckpt_dir_root = Path(r\"...\")\n",
    "\n",
    "rocks_dir = 'rocks'\n",
    "concrete_dir = 'concrete'\n",
    "stripes_dir = 'stripes'\n",
    "checker_dir = 'checkerboard_tiny'\n",
    "\n",
    "save_dir_real = Path(r\"...\")\n",
    "save_dir_fake = Path(r\"...\")"
   ]
  },
  {
   "cell_type": "markdown",
   "id": "77d6a23f-6069-43bc-8ec1-73eeebc05fd4",
   "metadata": {},
   "source": [
    "These will probably change each time you run this:"
   ]
  },
  {
   "cell_type": "code",
   "execution_count": 33,
   "id": "1c02d8b9-4c67-4fc3-b7d5-32ee0145d9ae",
   "metadata": {},
   "outputs": [],
   "source": [
    "mask_size = 16\n",
    "mini_path_to_ckpt = Path(r\"...\")\n",
    "img_dir_path = img_dir_root / checker_dir\n",
    "try_use_existing_real_imgs = True   # if True, does not delete and regenerate ground truth images"
   ]
  },
  {
   "cell_type": "markdown",
   "id": "d87ec776-0bfe-4c54-8d9d-ece7d6ca1bfe",
   "metadata": {},
   "source": [
    "---"
   ]
  },
  {
   "cell_type": "code",
   "execution_count": 25,
   "id": "765c81b1-2240-4029-b270-16315f743860",
   "metadata": {},
   "outputs": [
    {
     "name": "stdout",
     "output_type": "stream",
     "text": [
      "Found 1 file(s)\n"
     ]
    },
    {
     "data": {
      "text/plain": [
       "<matplotlib.image.AxesImage at 0x1a5447929b0>"
      ]
     },
     "execution_count": 25,
     "metadata": {},
     "output_type": "execute_result"
    },
    {
     "data": {
      "image/png": "[encoded data removed]",
      "text/plain": [
       "<Figure size 640x480 with 1 Axes>"
      ]
     },
     "metadata": {},
     "output_type": "display_data"
    }
   ],
   "source": [
    "dataset = BigTextureDataset(img_dir_path, 128, 128, 20000)\n",
    "img = dataset[0]\n",
    "img = torch.permute(img, (1,2,0))\n",
    "plt.imshow(img)"
   ]
  },
  {
   "cell_type": "markdown",
   "id": "22c1971e-61b7-4ddf-8241-3c7db87edf50",
   "metadata": {},
   "source": [
    "Clear real image directory (if required) and always clear fake image directory."
   ]
  },
  {
   "cell_type": "code",
   "execution_count": 26,
   "id": "3f1f5391-daba-4005-b717-e4b612106c54",
   "metadata": {},
   "outputs": [],
   "source": [
    "def clear_dir(dir_path: Path):\n",
    "    files = os.listdir(str(dir_path))\n",
    "    for filename in files:\n",
    "        file_path = str(dir_path / filename)\n",
    "        if os.path.isfile(file_path):\n",
    "            os.remove(file_path)\n",
    "\n",
    "if not try_use_existing_real_imgs:\n",
    "    clear_dir(save_dir_real)\n",
    "\n",
    "clear_dir(save_dir_fake)"
   ]
  },
  {
   "cell_type": "markdown",
   "id": "e888561e-bea8-43ed-86ee-9b4bd0f48b3e",
   "metadata": {},
   "source": [
    "# Generate real image samples"
   ]
  },
  {
   "cell_type": "code",
   "execution_count": 27,
   "id": "81359ced-ee4e-4a95-a38a-7b6042644789",
   "metadata": {},
   "outputs": [
    {
     "name": "stdout",
     "output_type": "stream",
     "text": [
      "Done\n"
     ]
    }
   ],
   "source": [
    "if not try_use_existing_real_imgs or len(os.listdir(str(save_dir_real))) < 2048:\n",
    "    for i in tqdm(range(2048)):\n",
    "        img = dataset[i]\n",
    "        img = torch.permute(img, (1,2,0))\n",
    "        img = img.numpy()\n",
    "        img = Image.fromarray(img)\n",
    "        img.save(save_dir_real / f'{i}.png')\n",
    "        \n",
    "print('Done')"
   ]
  },
  {
   "cell_type": "markdown",
   "id": "3d1dd8e7-6fda-41b8-9d2a-df80220e9269",
   "metadata": {},
   "source": [
    "# Get dataset"
   ]
  },
  {
   "cell_type": "code",
   "execution_count": 28,
   "id": "285d0c65-d439-4ca4-b802-a9c25822afdb",
   "metadata": {},
   "outputs": [],
   "source": [
    "masked_dataset = MaskedImageDataset(dataset,\n",
    "                                    img_size=128,\n",
    "                                    mask_size=mask_size,\n",
    "                                    transform=T.Compose([\n",
    "                                        # T.RandomHorizontalFlip(),\n",
    "                                        # T.RandomVerticalFlip(),\n",
    "                                        # T.RandomRotation(45, expand=True),\n",
    "                                        # T.Resize((128 * 2, 128 * 2), antialias=None),\n",
    "                                        # T.CenterCrop((128,128)),\n",
    "                                    ]),\n",
    "                                    augs_per_example=1,\n",
    "                                    use_wandering_mask=False)"
   ]
  },
  {
   "cell_type": "markdown",
   "id": "9dd399fa-7420-4393-8660-1006e852546d",
   "metadata": {},
   "source": [
    "# Load model and generate fake images"
   ]
  },
  {
   "cell_type": "code",
   "execution_count": 29,
   "id": "a6c04931-6743-4ba1-b176-64b76b8573a5",
   "metadata": {},
   "outputs": [
    {
     "name": "stdout",
     "output_type": "stream",
     "text": [
      "Model passed data size checks\n",
      "Model passed data size checks\n"
     ]
    },
    {
     "data": {
      "application/vnd.jupyter.widget-view+json": {
       "model_id": "579794d0d6aa445cbd4641be72e680c4",
       "version_major": 2,
       "version_minor": 0
      },
      "text/plain": [
       "  0%|          | 0/2048 [00:00<?, ?it/s]"
      ]
     },
     "metadata": {},
     "output_type": "display_data"
    }
   ],
   "source": [
    "model = InPaintingGAN(masked_dataset,\n",
    "                          128,\n",
    "                          mask_size,\n",
    "                          0.5,\n",
    "                          0.99,\n",
    "                          1e-4,\n",
    "                          100)\n",
    "model = InPaintingGAN.load_from_checkpoint(ckpt_dir_root / mini_path_to_ckpt,\n",
    "                                           dataset=masked_dataset,\n",
    "                                           img_size=128,\n",
    "                                           mask_size=mask_size,\n",
    "                                           adam_b1=0.5,\n",
    "                                           adam_b2=0.99,\n",
    "                                           lr=1e-4,\n",
    "                                           lr_sched_step_freq=100)\n",
    "model.eval()\n",
    "\n",
    "for i in tqdm(range(2048)):\n",
    "    z = model(masked_dataset[i][2].unsqueeze(0)).detach().cpu()\n",
    "    z = torch.permute(z.squeeze(0), (1,2,0)).numpy()\n",
    "    z = (z * 255).astype(np.uint8)\n",
    "    img = Image.fromarray(z)\n",
    "    img.save(save_dir_fake / f'{i}.png')"
   ]
  },
  {
   "cell_type": "markdown",
   "id": "022abf5a-ed91-41ac-b31d-a7739b0a4ff8",
   "metadata": {},
   "source": [
    "# Calculate FID"
   ]
  },
  {
   "cell_type": "code",
   "execution_count": 30,
   "id": "623aa23f-00ad-4577-a8a7-81439c8521ca",
   "metadata": {},
   "outputs": [
    {
     "name": "stdout",
     "output_type": "stream",
     "text": [
      "FID:  319.3972903056225\n"
     ]
    },
    {
     "name": "stderr",
     "output_type": "stream",
     "text": [
      "\n",
      "  0%|          | 0/41 [00:00<?, ?it/s]\n",
      "  2%|2         | 1/41 [00:08<05:32,  8.31s/it]\n",
      "  5%|4         | 2/41 [00:08<02:17,  3.53s/it]\n",
      "  7%|7         | 3/41 [00:08<01:15,  1.99s/it]\n",
      " 10%|9         | 4/41 [00:08<00:47,  1.27s/it]\n",
      " 12%|#2        | 5/41 [00:09<00:31,  1.14it/s]\n",
      " 15%|#4        | 6/41 [00:09<00:22,  1.56it/s]\n",
      " 17%|#7        | 7/41 [00:09<00:16,  2.03it/s]\n",
      " 20%|#9        | 8/41 [00:09<00:12,  2.56it/s]\n",
      " 22%|##1       | 9/41 [00:09<00:10,  3.10it/s]\n",
      " 24%|##4       | 10/41 [00:09<00:08,  3.63it/s]\n",
      " 27%|##6       | 11/41 [00:10<00:07,  4.03it/s]\n",
      " 29%|##9       | 12/41 [00:10<00:06,  4.47it/s]\n",
      " 32%|###1      | 13/41 [00:10<00:05,  4.72it/s]\n",
      " 34%|###4      | 14/41 [00:10<00:05,  5.07it/s]\n",
      " 37%|###6      | 15/41 [00:10<00:05,  5.17it/s]\n",
      " 39%|###9      | 16/41 [00:10<00:04,  5.39it/s]\n",
      " 41%|####1     | 17/41 [00:11<00:04,  5.50it/s]\n",
      " 44%|####3     | 18/41 [00:11<00:04,  5.58it/s]\n",
      " 46%|####6     | 19/41 [00:11<00:03,  5.64it/s]\n",
      " 49%|####8     | 20/41 [00:11<00:03,  5.71it/s]\n",
      " 51%|#####1    | 21/41 [00:11<00:03,  5.61it/s]\n",
      " 54%|#####3    | 22/41 [00:12<00:03,  5.41it/s]\n",
      " 56%|#####6    | 23/41 [00:12<00:03,  5.36it/s]\n",
      " 59%|#####8    | 24/41 [00:12<00:03,  5.53it/s]\n",
      " 61%|######    | 25/41 [00:12<00:02,  5.64it/s]\n",
      " 63%|######3   | 26/41 [00:12<00:02,  5.57it/s]\n",
      " 66%|######5   | 27/41 [00:12<00:02,  5.51it/s]\n",
      " 68%|######8   | 28/41 [00:13<00:02,  5.54it/s]\n",
      " 71%|#######   | 29/41 [00:13<00:02,  5.61it/s]\n",
      " 73%|#######3  | 30/41 [00:13<00:01,  5.66it/s]\n",
      " 76%|#######5  | 31/41 [00:13<00:01,  5.71it/s]\n",
      " 78%|#######8  | 32/41 [00:13<00:01,  5.73it/s]\n",
      " 80%|########  | 33/41 [00:13<00:01,  5.82it/s]\n",
      " 83%|########2 | 34/41 [00:14<00:01,  5.80it/s]\n",
      " 85%|########5 | 35/41 [00:14<00:01,  5.80it/s]\n",
      " 88%|########7 | 36/41 [00:14<00:00,  5.73it/s]\n",
      " 90%|######### | 37/41 [00:14<00:00,  5.85it/s]\n",
      " 93%|#########2| 38/41 [00:14<00:00,  5.71it/s]\n",
      " 95%|#########5| 39/41 [00:15<00:00,  5.62it/s]\n",
      " 98%|#########7| 40/41 [00:15<00:00,  5.55it/s]\n",
      "100%|##########| 41/41 [00:15<00:00,  5.57it/s]\n",
      "100%|##########| 41/41 [00:16<00:00,  2.54it/s]\n",
      "\n",
      "  0%|          | 0/41 [00:00<?, ?it/s]\n",
      "  2%|2         | 1/41 [00:05<03:29,  5.24s/it]\n",
      "  5%|4         | 2/41 [00:05<01:27,  2.26s/it]\n",
      "  7%|7         | 3/41 [00:05<00:49,  1.31s/it]\n",
      " 10%|9         | 4/41 [00:05<00:31,  1.16it/s]\n",
      " 12%|#2        | 5/41 [00:05<00:21,  1.64it/s]\n",
      " 15%|#4        | 6/41 [00:06<00:16,  2.15it/s]\n",
      " 17%|#7        | 7/41 [00:06<00:12,  2.71it/s]\n",
      " 20%|#9        | 8/41 [00:06<00:10,  3.28it/s]\n",
      " 22%|##1       | 9/41 [00:06<00:08,  3.74it/s]\n",
      " 24%|##4       | 10/41 [00:06<00:07,  4.14it/s]\n",
      " 27%|##6       | 11/41 [00:07<00:06,  4.47it/s]\n",
      " 29%|##9       | 12/41 [00:07<00:06,  4.65it/s]\n",
      " 32%|###1      | 13/41 [00:07<00:05,  4.97it/s]\n",
      " 34%|###4      | 14/41 [00:07<00:05,  5.09it/s]\n",
      " 37%|###6      | 15/41 [00:07<00:05,  5.18it/s]\n",
      " 39%|###9      | 16/41 [00:07<00:04,  5.30it/s]\n",
      " 41%|####1     | 17/41 [00:08<00:04,  5.47it/s]\n",
      " 44%|####3     | 18/41 [00:08<00:04,  5.45it/s]\n",
      " 46%|####6     | 19/41 [00:08<00:04,  5.44it/s]\n",
      " 49%|####8     | 20/41 [00:08<00:03,  5.43it/s]\n",
      " 51%|#####1    | 21/41 [00:08<00:03,  5.46it/s]\n",
      " 54%|#####3    | 22/41 [00:09<00:03,  5.47it/s]\n",
      " 56%|#####6    | 23/41 [00:09<00:03,  5.59it/s]\n",
      " 59%|#####8    | 24/41 [00:09<00:03,  5.53it/s]\n",
      " 61%|######    | 25/41 [00:09<00:02,  5.50it/s]\n",
      " 63%|######3   | 26/41 [00:09<00:02,  5.53it/s]\n",
      " 66%|######5   | 27/41 [00:09<00:02,  5.64it/s]\n",
      " 68%|######8   | 28/41 [00:10<00:02,  5.56it/s]\n",
      " 71%|#######   | 29/41 [00:10<00:02,  5.52it/s]\n",
      " 73%|#######3  | 30/41 [00:10<00:01,  5.63it/s]\n",
      " 76%|#######5  | 31/41 [00:10<00:01,  5.58it/s]\n",
      " 78%|#######8  | 32/41 [00:10<00:01,  5.72it/s]\n",
      " 80%|########  | 33/41 [00:10<00:01,  5.62it/s]\n",
      " 83%|########2 | 34/41 [00:11<00:01,  5.70it/s]\n",
      " 85%|########5 | 35/41 [00:11<00:01,  5.83it/s]\n",
      " 88%|########7 | 36/41 [00:11<00:00,  5.85it/s]\n",
      " 90%|######### | 37/41 [00:11<00:00,  5.87it/s]\n",
      " 93%|#########2| 38/41 [00:11<00:00,  5.79it/s]\n",
      " 95%|#########5| 39/41 [00:11<00:00,  5.82it/s]\n",
      " 98%|#########7| 40/41 [00:12<00:00,  5.85it/s]\n",
      "100%|##########| 41/41 [00:12<00:00,  6.10it/s]\n",
      "100%|##########| 41/41 [00:13<00:00,  3.14it/s]\n"
     ]
    }
   ],
   "source": [
    "os.environ['save_dir_real'] = '\"' + save_dir_real.as_posix() + '\"'\n",
    "os.environ['save_dir_fake'] = '\"' + save_dir_fake.as_posix() + '\"'\n",
    "!python -m pytorch_fid %save_dir_real% %save_dir_fake%"
   ]
  }
 ],
 "metadata": {
  "kernelspec": {
   "display_name": "cv_final",
   "language": "python",
   "name": "cv_final"
  },
  "language_info": {
   "codemirror_mode": {
    "name": "ipython",
    "version": 3
   },
   "file_extension": ".py",
   "mimetype": "text/x-python",
   "name": "python",
   "nbconvert_exporter": "python",
   "pygments_lexer": "ipython3",
   "version": "3.10.10"
  },
  "widgets": {
   "application/vnd.jupyter.widget-state+json": {
    "state": {
     "16f64425cbfc41ae96dd088c5d1df976": {
      "model_module": "@jupyter-widgets/controls",
      "model_module_version": "2.0.0",
      "model_name": "HTMLModel",
      "state": {
       "layout": "IPY_MODEL_8f5f4bdb8cbd47db9bacdc43178b9613",
       "style": "IPY_MODEL_59aee537f9ff459ba27dd9f7762d685f",
       "value": "100%"
      }
     },
     "4443f69120064f6bb6c38ca5bab34513": {
      "model_module": "@jupyter-widgets/controls",
      "model_module_version": "2.0.0",
      "model_name": "FloatProgressModel",
      "state": {
       "bar_style": "success",
       "layout": "IPY_MODEL_ed23b101aed14b93aab9d1642d6beee2",
       "max": 2048,
       "style": "IPY_MODEL_6010678e9e67402a96b93276ae295aa8",
       "value": 2048
      }
     },
     "462c0846a7db4e16acb8c57a3afb06a0": {
      "model_module": "@jupyter-widgets/controls",
      "model_module_version": "2.0.0",
      "model_name": "HTMLStyleModel",
      "state": {
       "description_width": "",
       "font_size": null,
       "text_color": null
      }
     },
     "579794d0d6aa445cbd4641be72e680c4": {
      "model_module": "@jupyter-widgets/controls",
      "model_module_version": "2.0.0",
      "model_name": "HBoxModel",
      "state": {
       "children": [
        "IPY_MODEL_16f64425cbfc41ae96dd088c5d1df976",
        "IPY_MODEL_4443f69120064f6bb6c38ca5bab34513",
        "IPY_MODEL_dc39f46048334669a777360e1f2ba23c"
       ],
       "layout": "IPY_MODEL_b4fc9a97968a4a929be6f33961b1b451"
      }
     },
     "59aee537f9ff459ba27dd9f7762d685f": {
      "model_module": "@jupyter-widgets/controls",
      "model_module_version": "2.0.0",
      "model_name": "HTMLStyleModel",
      "state": {
       "description_width": "",
       "font_size": null,
       "text_color": null
      }
     },
     "6010678e9e67402a96b93276ae295aa8": {
      "model_module": "@jupyter-widgets/controls",
      "model_module_version": "2.0.0",
      "model_name": "ProgressStyleModel",
      "state": {
       "description_width": ""
      }
     },
     "8f5f4bdb8cbd47db9bacdc43178b9613": {
      "model_module": "@jupyter-widgets/base",
      "model_module_version": "2.0.0",
      "model_name": "LayoutModel",
      "state": {}
     },
     "acd023c11e7b4e7ebd38e706aeb309f3": {
      "model_module": "@jupyter-widgets/base",
      "model_module_version": "2.0.0",
      "model_name": "LayoutModel",
      "state": {}
     },
     "b4fc9a97968a4a929be6f33961b1b451": {
      "model_module": "@jupyter-widgets/base",
      "model_module_version": "2.0.0",
      "model_name": "LayoutModel",
      "state": {}
     },
     "dc39f46048334669a777360e1f2ba23c": {
      "model_module": "@jupyter-widgets/controls",
      "model_module_version": "2.0.0",
      "model_name": "HTMLModel",
      "state": {
       "layout": "IPY_MODEL_acd023c11e7b4e7ebd38e706aeb309f3",
       "style": "IPY_MODEL_462c0846a7db4e16acb8c57a3afb06a0",
       "value": " 2048/2048 [01:17&lt;00:00, 23.86it/s]"
      }
     },
     "ed23b101aed14b93aab9d1642d6beee2": {
      "model_module": "@jupyter-widgets/base",
      "model_module_version": "2.0.0",
      "model_name": "LayoutModel",
      "state": {}
     }
    },
    "version_major": 2,
    "version_minor": 0
   }
  }
 },
 "nbformat": 4,
 "nbformat_minor": 5
}
